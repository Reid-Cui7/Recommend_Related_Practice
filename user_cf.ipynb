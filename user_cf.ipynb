{
 "cells": [
  {
   "cell_type": "code",
   "execution_count": 11,
   "metadata": {},
   "outputs": [],
   "source": [
    "import os\n",
    "import math\n",
    "import random\n",
    "import pandas as pd"
   ]
  },
  {
   "cell_type": "code",
   "execution_count": 1,
   "metadata": {},
   "outputs": [],
   "source": [
    "class UserBasedCF:\n",
    "    def __init__(self, path):\n",
    "        self.train = {}\n",
    "        self.test = {}\n",
    "        self.generate_dataset(path)\n",
    "\n",
    "    def load_file(self, path):\n",
    "        with open(path, 'r', encoding='utf-8') as f:\n",
    "            for i, line in enumerate(f):\n",
    "                yield line.strip()\n",
    "\n",
    "    def generate_dataset(self, path, pivot=0.7):\n",
    "        i = 0\n",
    "        for line in self.load_file(path):\n",
    "            user, movie, rating, _ = line.split(\"::\")\n",
    "            if i < 10:\n",
    "                print(' {}, {}, {}, {}'.format(user, movie, rating, _))\n",
    "            i += 1\n",
    "            if random.random() < pivot:\n",
    "                self.train.setdefault(user, {})\n",
    "                self.train[user][movie] = int(rating)\n",
    "            else:\n",
    "                self.test.setdefault(user, {})\n",
    "                self.test[user][movie] = int(rating)\n",
    "\n",
    "    def user_similarity(self):\n",
    "        # 建立物品-用户倒排表\n",
    "        self.item_users = dict()\n",
    "        for user, items in self.train.items():\n",
    "            for i in items.keys():\n",
    "                if i not in self.item_users:\n",
    "                    self.item_users[i] = set()\n",
    "                self.item_users[i].add(user)\n",
    "        \n",
    "        C = dict()  # 用户-用户共现矩阵\n",
    "        N = dict()  # 用户产生行为的物品个数\n",
    "        for i, users in self.item_users.items():\n",
    "            for u in users:\n",
    "                N.setdefault(u, 0)\n",
    "                N[u] += 1\n",
    "                C.setdefault(u, {})\n",
    "                for v in users:\n",
    "                    if u == v:\n",
    "                        continue\n",
    "                    C[u].setdefault(v, 0)\n",
    "                    C[u][v] += 1\n",
    "        \n",
    "        self.W = dict() # 相似度矩阵\n",
    "        for u, related_users in C.items():\n",
    "            self.W.setdefault(u, {})\n",
    "            for v, cuv in related_users.items():\n",
    "                self.W[u][v] = cuv / math.sqrt(N[u] * N[v])\n",
    "        \n",
    "        return self.W, C, N\n",
    "\n",
    "    def recommend(self, u, k=3, n=10):\n",
    "        rank = dict()\n",
    "        action_item = self.train[u].keys()  # user产生过行为的item\n",
    "        for v, wuv in sorted(self.W[u].items(), key=lambda x:x[1], reverse=True)[:k]:\n",
    "            for i, rvi in self.train[v].items():\n",
    "                if i in action_item:\n",
    "                    continue\n",
    "                rank.setdefault(i, 0)\n",
    "                rank[i] += wuv * rvi\n",
    "        return dict(sorted(rank.items(), key=lambda x: x[1], reverse=True)[:n])\n",
    "\n",
    "    def recall_precision(self, k=8, nitem=10):\n",
    "        hit = 0\n",
    "        recall = 0\n",
    "        precision = 0\n",
    "        for user, items in self.test.items():\n",
    "            rank = self.recommend(user, k=k, n=nitem)\n",
    "            hit += len(set(rank.keys()) & set(items.keys()))\n",
    "            recall += len(items)\n",
    "            precision += nitem\n",
    "        return hit / recall, hit / precision"
   ]
  },
  {
   "cell_type": "code",
   "execution_count": 3,
   "metadata": {},
   "outputs": [],
   "source": [
    "def print_2_dim_dic(dic, n=3):\n",
    "    n = 0\n",
    "    for u, v_cnt in dic.items():\n",
    "        if n >= 3:\n",
    "            break\n",
    "        n += 1\n",
    "        m = 1\n",
    "        for v, cnt in v_cnt.items():\n",
    "            if m >= 3:\n",
    "                break\n",
    "            m += 1\n",
    "            print(u, v, cnt)"
   ]
  },
  {
   "cell_type": "code",
   "execution_count": 4,
   "metadata": {},
   "outputs": [],
   "source": [
    "def print_1_dim_dic(dic, n=3):\n",
    "    n = 0\n",
    "    for u,i_cnt in dic.items():\n",
    "        if n >= 3:\n",
    "            break\n",
    "        n += 1    \n",
    "        print(u, i_cnt)"
   ]
  },
  {
   "cell_type": "code",
   "execution_count": 6,
   "metadata": {},
   "outputs": [],
   "source": [
    "def sort_2_dim_dic(dic, k, n=5):\n",
    "    return sorted(dic[k].items(), key=lambda x:x[1],reverse=True)[:n]\n",
    "\n",
    "def sort_1_dim_dic(dic, n=5):\n",
    "    return sorted(dic.items(), key=lambda x:x[1],reverse=True)[:n]\n",
    "\n",
    "def trans_dic_2_dim(dic):\n",
    "     return pd.DataFrame(dic).T.fillna(0)"
   ]
  },
  {
   "cell_type": "code",
   "execution_count": 9,
   "metadata": {},
   "outputs": [
    {
     "name": "stdout",
     "output_type": "stream",
     "text": [
      " 1, 1193, 5, 978300760\n",
      " 1, 661, 3, 978302109\n",
      " 1, 914, 3, 978301968\n",
      " 1, 3408, 4, 978300275\n",
      " 1, 2355, 5, 978824291\n",
      " 1, 1197, 3, 978302268\n",
      " 1, 1287, 5, 978302039\n",
      " 1, 2804, 5, 978300719\n",
      " 1, 594, 4, 978302268\n",
      " 1, 919, 4, 978301368\n"
     ]
    }
   ],
   "source": [
    "path = os.path.join(r\"C:\\Users\\cmj\\Documents\\Codes\\Dataset\\ml-1m\", \"ratings.dat\")\n",
    "ucf = UserBasedCF(path)"
   ]
  },
  {
   "cell_type": "code",
   "execution_count": 12,
   "metadata": {},
   "outputs": [],
   "source": [
    "W, C, N = ucf.user_similarity()"
   ]
  },
  {
   "cell_type": "code",
   "execution_count": 13,
   "metadata": {},
   "outputs": [],
   "source": [
    "df_c = trans_dic_2_dim(C)"
   ]
  },
  {
   "cell_type": "code",
   "execution_count": 14,
   "metadata": {},
   "outputs": [
    {
     "data": {
      "text/plain": [
       "(6040, 6040)"
      ]
     },
     "execution_count": 14,
     "metadata": {},
     "output_type": "execute_result"
    }
   ],
   "source": [
    "df_c.shape"
   ]
  },
  {
   "cell_type": "code",
   "execution_count": 15,
   "metadata": {},
   "outputs": [
    {
     "data": {
      "text/html": [
       "<div>\n",
       "<style scoped>\n",
       "    .dataframe tbody tr th:only-of-type {\n",
       "        vertical-align: middle;\n",
       "    }\n",
       "\n",
       "    .dataframe tbody tr th {\n",
       "        vertical-align: top;\n",
       "    }\n",
       "\n",
       "    .dataframe thead th {\n",
       "        text-align: right;\n",
       "    }\n",
       "</style>\n",
       "<table border=\"1\" class=\"dataframe\">\n",
       "  <thead>\n",
       "    <tr style=\"text-align: right;\">\n",
       "      <th></th>\n",
       "      <th>2041</th>\n",
       "      <th>300</th>\n",
       "      <th>1305</th>\n",
       "      <th>4956</th>\n",
       "      <th>319</th>\n",
       "      <th>4093</th>\n",
       "      <th>2008</th>\n",
       "      <th>5759</th>\n",
       "      <th>5838</th>\n",
       "      <th>3001</th>\n",
       "    </tr>\n",
       "  </thead>\n",
       "  <tbody>\n",
       "    <tr>\n",
       "      <th>620</th>\n",
       "      <td>33.0</td>\n",
       "      <td>14.0</td>\n",
       "      <td>1.0</td>\n",
       "      <td>12.0</td>\n",
       "      <td>47.0</td>\n",
       "      <td>15.0</td>\n",
       "      <td>20.0</td>\n",
       "      <td>43.0</td>\n",
       "      <td>13.0</td>\n",
       "      <td>16.0</td>\n",
       "    </tr>\n",
       "    <tr>\n",
       "      <th>2041</th>\n",
       "      <td>0.0</td>\n",
       "      <td>66.0</td>\n",
       "      <td>2.0</td>\n",
       "      <td>60.0</td>\n",
       "      <td>149.0</td>\n",
       "      <td>53.0</td>\n",
       "      <td>46.0</td>\n",
       "      <td>128.0</td>\n",
       "      <td>62.0</td>\n",
       "      <td>65.0</td>\n",
       "    </tr>\n",
       "    <tr>\n",
       "      <th>300</th>\n",
       "      <td>66.0</td>\n",
       "      <td>0.0</td>\n",
       "      <td>2.0</td>\n",
       "      <td>35.0</td>\n",
       "      <td>66.0</td>\n",
       "      <td>30.0</td>\n",
       "      <td>22.0</td>\n",
       "      <td>53.0</td>\n",
       "      <td>34.0</td>\n",
       "      <td>38.0</td>\n",
       "    </tr>\n",
       "    <tr>\n",
       "      <th>1305</th>\n",
       "      <td>2.0</td>\n",
       "      <td>2.0</td>\n",
       "      <td>0.0</td>\n",
       "      <td>1.0</td>\n",
       "      <td>4.0</td>\n",
       "      <td>2.0</td>\n",
       "      <td>2.0</td>\n",
       "      <td>2.0</td>\n",
       "      <td>1.0</td>\n",
       "      <td>2.0</td>\n",
       "    </tr>\n",
       "    <tr>\n",
       "      <th>4956</th>\n",
       "      <td>60.0</td>\n",
       "      <td>35.0</td>\n",
       "      <td>1.0</td>\n",
       "      <td>0.0</td>\n",
       "      <td>77.0</td>\n",
       "      <td>24.0</td>\n",
       "      <td>29.0</td>\n",
       "      <td>59.0</td>\n",
       "      <td>40.0</td>\n",
       "      <td>28.0</td>\n",
       "    </tr>\n",
       "    <tr>\n",
       "      <th>319</th>\n",
       "      <td>149.0</td>\n",
       "      <td>66.0</td>\n",
       "      <td>4.0</td>\n",
       "      <td>77.0</td>\n",
       "      <td>0.0</td>\n",
       "      <td>47.0</td>\n",
       "      <td>59.0</td>\n",
       "      <td>144.0</td>\n",
       "      <td>59.0</td>\n",
       "      <td>90.0</td>\n",
       "    </tr>\n",
       "    <tr>\n",
       "      <th>4093</th>\n",
       "      <td>53.0</td>\n",
       "      <td>30.0</td>\n",
       "      <td>2.0</td>\n",
       "      <td>24.0</td>\n",
       "      <td>47.0</td>\n",
       "      <td>0.0</td>\n",
       "      <td>18.0</td>\n",
       "      <td>32.0</td>\n",
       "      <td>23.0</td>\n",
       "      <td>31.0</td>\n",
       "    </tr>\n",
       "    <tr>\n",
       "      <th>2008</th>\n",
       "      <td>46.0</td>\n",
       "      <td>22.0</td>\n",
       "      <td>2.0</td>\n",
       "      <td>29.0</td>\n",
       "      <td>59.0</td>\n",
       "      <td>18.0</td>\n",
       "      <td>0.0</td>\n",
       "      <td>43.0</td>\n",
       "      <td>19.0</td>\n",
       "      <td>26.0</td>\n",
       "    </tr>\n",
       "    <tr>\n",
       "      <th>5759</th>\n",
       "      <td>128.0</td>\n",
       "      <td>53.0</td>\n",
       "      <td>2.0</td>\n",
       "      <td>59.0</td>\n",
       "      <td>144.0</td>\n",
       "      <td>32.0</td>\n",
       "      <td>43.0</td>\n",
       "      <td>0.0</td>\n",
       "      <td>67.0</td>\n",
       "      <td>57.0</td>\n",
       "    </tr>\n",
       "    <tr>\n",
       "      <th>5838</th>\n",
       "      <td>62.0</td>\n",
       "      <td>34.0</td>\n",
       "      <td>1.0</td>\n",
       "      <td>40.0</td>\n",
       "      <td>59.0</td>\n",
       "      <td>23.0</td>\n",
       "      <td>19.0</td>\n",
       "      <td>67.0</td>\n",
       "      <td>0.0</td>\n",
       "      <td>21.0</td>\n",
       "    </tr>\n",
       "  </tbody>\n",
       "</table>\n",
       "</div>"
      ],
      "text/plain": [
       "       2041   300  1305  4956    319  4093  2008   5759  5838  3001\n",
       "620    33.0  14.0   1.0  12.0   47.0  15.0  20.0   43.0  13.0  16.0\n",
       "2041    0.0  66.0   2.0  60.0  149.0  53.0  46.0  128.0  62.0  65.0\n",
       "300    66.0   0.0   2.0  35.0   66.0  30.0  22.0   53.0  34.0  38.0\n",
       "1305    2.0   2.0   0.0   1.0    4.0   2.0   2.0    2.0   1.0   2.0\n",
       "4956   60.0  35.0   1.0   0.0   77.0  24.0  29.0   59.0  40.0  28.0\n",
       "319   149.0  66.0   4.0  77.0    0.0  47.0  59.0  144.0  59.0  90.0\n",
       "4093   53.0  30.0   2.0  24.0   47.0   0.0  18.0   32.0  23.0  31.0\n",
       "2008   46.0  22.0   2.0  29.0   59.0  18.0   0.0   43.0  19.0  26.0\n",
       "5759  128.0  53.0   2.0  59.0  144.0  32.0  43.0    0.0  67.0  57.0\n",
       "5838   62.0  34.0   1.0  40.0   59.0  23.0  19.0   67.0   0.0  21.0"
      ]
     },
     "execution_count": 15,
     "metadata": {},
     "output_type": "execute_result"
    }
   ],
   "source": [
    "df_c.iloc[:10, :10]"
   ]
  },
  {
   "cell_type": "code",
   "execution_count": 16,
   "metadata": {},
   "outputs": [
    {
     "data": {
      "text/plain": [
       "[('531', 29), ('2529', 26), ('1605', 26), ('4277', 25), ('5795', 24)]"
      ]
     },
     "execution_count": 16,
     "metadata": {},
     "output_type": "execute_result"
    }
   ],
   "source": [
    "sort_2_dim_dic(C, '1')"
   ]
  },
  {
   "cell_type": "code",
   "execution_count": 17,
   "metadata": {},
   "outputs": [
    {
     "name": "stdout",
     "output_type": "stream",
     "text": [
      "620 127\n",
      "2041 383\n",
      "300 172\n"
     ]
    }
   ],
   "source": [
    "print_1_dim_dic(N)"
   ]
  },
  {
   "cell_type": "code",
   "execution_count": 18,
   "metadata": {},
   "outputs": [
    {
     "data": {
      "text/plain": [
       "[('4169', 1616), ('1680', 1303), ('4277', 1224), ('1941', 1126), ('889', 1065)]"
      ]
     },
     "execution_count": 18,
     "metadata": {},
     "output_type": "execute_result"
    }
   ],
   "source": [
    "sort_1_dim_dic(N)"
   ]
  },
  {
   "cell_type": "code",
   "execution_count": 19,
   "metadata": {},
   "outputs": [],
   "source": [
    "df_w = trans_dic_2_dim(W)"
   ]
  },
  {
   "cell_type": "code",
   "execution_count": 20,
   "metadata": {},
   "outputs": [
    {
     "data": {
      "text/plain": [
       "(6040, 6040)"
      ]
     },
     "execution_count": 20,
     "metadata": {},
     "output_type": "execute_result"
    }
   ],
   "source": [
    "df_w.shape"
   ]
  },
  {
   "cell_type": "code",
   "execution_count": 21,
   "metadata": {},
   "outputs": [
    {
     "data": {
      "text/html": [
       "<div>\n",
       "<style scoped>\n",
       "    .dataframe tbody tr th:only-of-type {\n",
       "        vertical-align: middle;\n",
       "    }\n",
       "\n",
       "    .dataframe tbody tr th {\n",
       "        vertical-align: top;\n",
       "    }\n",
       "\n",
       "    .dataframe thead th {\n",
       "        text-align: right;\n",
       "    }\n",
       "</style>\n",
       "<table border=\"1\" class=\"dataframe\">\n",
       "  <thead>\n",
       "    <tr style=\"text-align: right;\">\n",
       "      <th></th>\n",
       "      <th>2041</th>\n",
       "      <th>300</th>\n",
       "      <th>1305</th>\n",
       "      <th>4956</th>\n",
       "      <th>319</th>\n",
       "      <th>4093</th>\n",
       "      <th>2008</th>\n",
       "      <th>5759</th>\n",
       "      <th>5838</th>\n",
       "      <th>3001</th>\n",
       "    </tr>\n",
       "  </thead>\n",
       "  <tbody>\n",
       "    <tr>\n",
       "      <th>620</th>\n",
       "      <td>0.149628</td>\n",
       "      <td>0.094724</td>\n",
       "      <td>0.022911</td>\n",
       "      <td>0.080957</td>\n",
       "      <td>0.184676</td>\n",
       "      <td>0.133774</td>\n",
       "      <td>0.162008</td>\n",
       "      <td>0.190544</td>\n",
       "      <td>0.091773</td>\n",
       "      <td>0.095289</td>\n",
       "    </tr>\n",
       "    <tr>\n",
       "      <th>2041</th>\n",
       "      <td>0.000000</td>\n",
       "      <td>0.257146</td>\n",
       "      <td>0.026387</td>\n",
       "      <td>0.233093</td>\n",
       "      <td>0.337133</td>\n",
       "      <td>0.272182</td>\n",
       "      <td>0.214569</td>\n",
       "      <td>0.326617</td>\n",
       "      <td>0.252037</td>\n",
       "      <td>0.222914</td>\n",
       "    </tr>\n",
       "    <tr>\n",
       "      <th>300</th>\n",
       "      <td>0.257146</td>\n",
       "      <td>0.000000</td>\n",
       "      <td>0.039375</td>\n",
       "      <td>0.202899</td>\n",
       "      <td>0.222841</td>\n",
       "      <td>0.229900</td>\n",
       "      <td>0.153133</td>\n",
       "      <td>0.201809</td>\n",
       "      <td>0.206246</td>\n",
       "      <td>0.194466</td>\n",
       "    </tr>\n",
       "    <tr>\n",
       "      <th>1305</th>\n",
       "      <td>0.026387</td>\n",
       "      <td>0.039375</td>\n",
       "      <td>0.000000</td>\n",
       "      <td>0.019630</td>\n",
       "      <td>0.045733</td>\n",
       "      <td>0.051900</td>\n",
       "      <td>0.047140</td>\n",
       "      <td>0.025788</td>\n",
       "      <td>0.020541</td>\n",
       "      <td>0.034658</td>\n",
       "    </tr>\n",
       "    <tr>\n",
       "      <th>4956</th>\n",
       "      <td>0.233093</td>\n",
       "      <td>0.202899</td>\n",
       "      <td>0.019630</td>\n",
       "      <td>0.000000</td>\n",
       "      <td>0.259228</td>\n",
       "      <td>0.183388</td>\n",
       "      <td>0.201272</td>\n",
       "      <td>0.224005</td>\n",
       "      <td>0.241940</td>\n",
       "      <td>0.142876</td>\n",
       "    </tr>\n",
       "    <tr>\n",
       "      <th>319</th>\n",
       "      <td>0.337133</td>\n",
       "      <td>0.222841</td>\n",
       "      <td>0.045733</td>\n",
       "      <td>0.259228</td>\n",
       "      <td>0.000000</td>\n",
       "      <td>0.209168</td>\n",
       "      <td>0.238493</td>\n",
       "      <td>0.318424</td>\n",
       "      <td>0.207844</td>\n",
       "      <td>0.267474</td>\n",
       "    </tr>\n",
       "    <tr>\n",
       "      <th>4093</th>\n",
       "      <td>0.272182</td>\n",
       "      <td>0.229900</td>\n",
       "      <td>0.051900</td>\n",
       "      <td>0.183388</td>\n",
       "      <td>0.209168</td>\n",
       "      <td>0.000000</td>\n",
       "      <td>0.165145</td>\n",
       "      <td>0.160605</td>\n",
       "      <td>0.183900</td>\n",
       "      <td>0.209107</td>\n",
       "    </tr>\n",
       "    <tr>\n",
       "      <th>2008</th>\n",
       "      <td>0.214569</td>\n",
       "      <td>0.153133</td>\n",
       "      <td>0.047140</td>\n",
       "      <td>0.201272</td>\n",
       "      <td>0.238493</td>\n",
       "      <td>0.165145</td>\n",
       "      <td>0.000000</td>\n",
       "      <td>0.196022</td>\n",
       "      <td>0.137986</td>\n",
       "      <td>0.159297</td>\n",
       "    </tr>\n",
       "    <tr>\n",
       "      <th>5759</th>\n",
       "      <td>0.326617</td>\n",
       "      <td>0.201809</td>\n",
       "      <td>0.025788</td>\n",
       "      <td>0.224005</td>\n",
       "      <td>0.318424</td>\n",
       "      <td>0.160605</td>\n",
       "      <td>0.196022</td>\n",
       "      <td>0.000000</td>\n",
       "      <td>0.266179</td>\n",
       "      <td>0.191041</td>\n",
       "    </tr>\n",
       "    <tr>\n",
       "      <th>5838</th>\n",
       "      <td>0.252037</td>\n",
       "      <td>0.206246</td>\n",
       "      <td>0.020541</td>\n",
       "      <td>0.241940</td>\n",
       "      <td>0.207844</td>\n",
       "      <td>0.183900</td>\n",
       "      <td>0.137986</td>\n",
       "      <td>0.266179</td>\n",
       "      <td>0.000000</td>\n",
       "      <td>0.112128</td>\n",
       "    </tr>\n",
       "  </tbody>\n",
       "</table>\n",
       "</div>"
      ],
      "text/plain": [
       "          2041       300      1305      4956       319      4093      2008  \\\n",
       "620   0.149628  0.094724  0.022911  0.080957  0.184676  0.133774  0.162008   \n",
       "2041  0.000000  0.257146  0.026387  0.233093  0.337133  0.272182  0.214569   \n",
       "300   0.257146  0.000000  0.039375  0.202899  0.222841  0.229900  0.153133   \n",
       "1305  0.026387  0.039375  0.000000  0.019630  0.045733  0.051900  0.047140   \n",
       "4956  0.233093  0.202899  0.019630  0.000000  0.259228  0.183388  0.201272   \n",
       "319   0.337133  0.222841  0.045733  0.259228  0.000000  0.209168  0.238493   \n",
       "4093  0.272182  0.229900  0.051900  0.183388  0.209168  0.000000  0.165145   \n",
       "2008  0.214569  0.153133  0.047140  0.201272  0.238493  0.165145  0.000000   \n",
       "5759  0.326617  0.201809  0.025788  0.224005  0.318424  0.160605  0.196022   \n",
       "5838  0.252037  0.206246  0.020541  0.241940  0.207844  0.183900  0.137986   \n",
       "\n",
       "          5759      5838      3001  \n",
       "620   0.190544  0.091773  0.095289  \n",
       "2041  0.326617  0.252037  0.222914  \n",
       "300   0.201809  0.206246  0.194466  \n",
       "1305  0.025788  0.020541  0.034658  \n",
       "4956  0.224005  0.241940  0.142876  \n",
       "319   0.318424  0.207844  0.267474  \n",
       "4093  0.160605  0.183900  0.209107  \n",
       "2008  0.196022  0.137986  0.159297  \n",
       "5759  0.000000  0.266179  0.191041  \n",
       "5838  0.266179  0.000000  0.112128  "
      ]
     },
     "execution_count": 21,
     "metadata": {},
     "output_type": "execute_result"
    }
   ],
   "source": [
    "df_w.iloc[:10, :10]"
   ]
  },
  {
   "cell_type": "code",
   "execution_count": 22,
   "metadata": {},
   "outputs": [
    {
     "data": {
      "text/plain": [
       "[('1988', 0.3176145442571894),\n",
       " ('5643', 0.30254703190195087),\n",
       " ('1317', 0.3019207918666382),\n",
       " ('4867', 0.2941092394640641),\n",
       " ('5333', 0.2921545008130789)]"
      ]
     },
     "execution_count": 22,
     "metadata": {},
     "output_type": "execute_result"
    }
   ],
   "source": [
    "sort_2_dim_dic(W, '520')"
   ]
  },
  {
   "cell_type": "code",
   "execution_count": 24,
   "metadata": {},
   "outputs": [
    {
     "data": {
      "text/plain": [
       "{'2599': 4.610411840128893,\n",
       " '3545': 4.610411840128893,\n",
       " '2858': 4.308491048262255,\n",
       " '1131': 4.307864808226942,\n",
       " '2352': 4.292797295871703,\n",
       " '922': 4.005944016360303,\n",
       " '3114': 4.005944016360303,\n",
       " '1': 3.990876504005065,\n",
       " '1641': 3.990876504005065,\n",
       " '3019': 3.9902502639697524}"
      ]
     },
     "execution_count": 24,
     "metadata": {},
     "output_type": "execute_result"
    }
   ],
   "source": [
    "recommend = ucf.recommend(\"520\")\n",
    "recommend"
   ]
  },
  {
   "cell_type": "code",
   "execution_count": 26,
   "metadata": {},
   "outputs": [
    {
     "data": {
      "text/plain": [
       "(0.06856232878534003, 0.34144039735099335)"
      ]
     },
     "execution_count": 26,
     "metadata": {},
     "output_type": "execute_result"
    }
   ],
   "source": [
    "ucf.recall_precision()"
   ]
  },
  {
   "cell_type": "markdown",
   "metadata": {},
   "source": [
    "- 增加惩罚"
   ]
  },
  {
   "cell_type": "code",
   "execution_count": null,
   "metadata": {},
   "outputs": [],
   "source": [
    "class UserBasedCF:\n",
    "    def __init__(self, path):\n",
    "        self.train = {}\n",
    "        self.test = {}\n",
    "        self.generate_dataset(path)\n",
    "\n",
    "    def load_file(self, path):\n",
    "        with open(path, 'r', encoding='utf-8') as f:\n",
    "            for i, line in enumerate(f):\n",
    "                yield line.strip()\n",
    "\n",
    "    def generate_dataset(self, path, pivot=0.7):\n",
    "        i = 0\n",
    "        for line in self.load_file(path):\n",
    "            user, movie, rating, _ = line.split(\"::\")\n",
    "            if i < 10:\n",
    "                print(' {}, {}, {}, {}'.format(user, movie, rating, _))\n",
    "            i += 1\n",
    "            if random.random() < pivot:\n",
    "                self.train.setdefault(user, {})\n",
    "                self.train[user][movie] = int(rating)\n",
    "            else:\n",
    "                self.test.setdefault(user, {})\n",
    "                self.test[user][movie] = int(rating)\n",
    "\n",
    "    def user_similarity(self):\n",
    "        self.item_users = dict()\n",
    "        for user, items in self.train.items():\n",
    "            for i in items.keys():\n",
    "                if i not in self.item_users:\n",
    "                    self.item_users[i] = set()\n",
    "                self.item_users[i].add(user)\n",
    "        \n",
    "        C = dict()\n",
    "        W = dict()\n",
    "        for i, users in self.item_users.items():\n",
    "            for u in users:\n",
    "                N.setdefault(u, 0)\n",
    "                N[u] += 1\n",
    "                C.setdefault(u, {})\n",
    "                for v in users:\n",
    "                    if u == v:\n",
    "                        continue\n",
    "                    C[u].setdefault(v, 0)\n",
    "                    C[u][v] += 1 / math.log(1 + len(u))\n",
    "        self.W = dict()\n",
    "        for u, related_users in C.items():\n",
    "            self.W.setdefault(u, {})\n",
    "            for v, cuv in related_users.items():\n",
    "                self.W[u][v] = cuv / math.sqrt(N[u] * N[v])\n",
    "        return self.W, C, N\n",
    "\n",
    "    def recommend(self, u, k=3, n=10):\n",
    "        rank = dict()\n",
    "        action_item = self.train[u].keys()  # user产生过行为的item\n",
    "        for v, wuv in sorted(self.W[u].items(), key=lambda x:x[1], reverse=True)[:k]:\n",
    "            for i, rvi in self.train[v].items():\n",
    "                if i in action_item:\n",
    "                    continue\n",
    "                rank.setdefault(i, 0)\n",
    "                rank[i] += wuv * rvi\n",
    "        return dict(sorted(rank.items(), key=lambda x: x[1], reverse=True)[:n])\n",
    "\n",
    "    def recall_precision(self, k=8, nitem=10):\n",
    "        hit = 0\n",
    "        recall = 0\n",
    "        precision = 0\n",
    "        for user, items in self.test.items():\n",
    "            rank = self.recommend(user, k=k, n=nitem)\n",
    "            hit += len(set(rank.keys()) & set(items.keys()))\n",
    "            recall += len(items)\n",
    "            precision += nitem\n",
    "        return hit / recall, hit / precision"
   ]
  }
 ],
 "metadata": {
  "kernelspec": {
   "display_name": "d2l",
   "language": "python",
   "name": "python3"
  },
  "language_info": {
   "codemirror_mode": {
    "name": "ipython",
    "version": 3
   },
   "file_extension": ".py",
   "mimetype": "text/x-python",
   "name": "python",
   "nbconvert_exporter": "python",
   "pygments_lexer": "ipython3",
   "version": "3.9.17"
  }
 },
 "nbformat": 4,
 "nbformat_minor": 2
}
